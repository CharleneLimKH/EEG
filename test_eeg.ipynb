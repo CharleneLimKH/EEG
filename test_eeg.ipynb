{
 "cells": [
  {
   "cell_type": "code",
   "execution_count": 1,
   "metadata": {},
   "outputs": [
    {
     "ename": "ModuleNotFoundError",
     "evalue": "No module named 'pyeeg'",
     "output_type": "error",
     "traceback": [
      "\u001b[1;31m---------------------------------------------------------------------------\u001b[0m",
      "\u001b[1;31mModuleNotFoundError\u001b[0m                       Traceback (most recent call last)",
      "Cell \u001b[1;32mIn[1], line 1\u001b[0m\n\u001b[1;32m----> 1\u001b[0m \u001b[38;5;28;01mimport\u001b[39;00m \u001b[38;5;21;01mpyeeg\u001b[39;00m\n\u001b[0;32m      2\u001b[0m fid \u001b[38;5;241m=\u001b[39m \u001b[38;5;28mopen\u001b[39m(\u001b[38;5;124m'\u001b[39m\u001b[38;5;124msample.txt\u001b[39m\u001b[38;5;124m'\u001b[39m, \u001b[38;5;124m'\u001b[39m\u001b[38;5;124mr\u001b[39m\u001b[38;5;124m'\u001b[39m)\n\u001b[0;32m      3\u001b[0m tmp \u001b[38;5;241m=\u001b[39m fid\u001b[38;5;241m.\u001b[39mreadlines()\n",
      "\u001b[1;31mModuleNotFoundError\u001b[0m: No module named 'pyeeg'"
     ]
    }
   ],
   "source": [
    "import pyeeg\n",
    "fid = open('sample.txt', 'r')\n",
    "tmp = fid.readlines()\n",
    "data = [float(k) for k in tmp]"
   ]
  },
  {
   "cell_type": "code",
   "execution_count": null,
   "metadata": {},
   "outputs": [],
   "source": [
    "DFA = pyeeg.dfa(data)\n",
    "DFA"
   ]
  },
  {
   "cell_type": "code",
   "execution_count": null,
   "metadata": {},
   "outputs": [],
   "source": [
    "Hurst_Exponent = pyeeg.hurst(data)\n",
    "Hurst_Exponent"
   ]
  },
  {
   "cell_type": "code",
   "execution_count": null,
   "metadata": {},
   "outputs": [],
   "source": [
    "PFD = pyeeg.pfd(data)\n",
    "PFD"
   ]
  },
  {
   "cell_type": "code",
   "execution_count": null,
   "metadata": {},
   "outputs": [],
   "source": [
    "import numpy as np\n",
    "def Std( x ):\n",
    "\n",
    "\tresp = np.std(x)\n",
    "\n",
    "\treturn resp\n",
    "Std(data)"
   ]
  },
  {
   "cell_type": "code",
   "execution_count": null,
   "metadata": {},
   "outputs": [],
   "source": [
    "# Power Feature\n",
    "\n",
    "import numpy as np\n",
    "\n",
    "def Power( x ):\n",
    "\n",
    "\tF = np.fft.fft(x)\n",
    "\tP = F * np.conjugate(F)\n",
    "\tresp = sum(P)\n",
    "\n",
    "\treturn resp\n",
    "Power(data)"
   ]
  },
  {
   "cell_type": "code",
   "execution_count": null,
   "metadata": {},
   "outputs": [],
   "source": [
    "# Mean feature\n",
    "\n",
    "import numpy as np\n",
    "\n",
    "def Mean( x ):\n",
    "\n",
    "\tresp = np.mean(x)\n",
    "\n",
    "\treturn resp\n",
    "\n",
    "Mean(data)"
   ]
  },
  {
   "cell_type": "code",
   "execution_count": 2,
   "metadata": {},
   "outputs": [
    {
     "name": "stdout",
     "output_type": "stream",
     "text": [
      "WARNING:tensorflow:From d:\\FHNW_Medical_Informatics\\Python\\Python_Learn\\EEG\\.venv\\Lib\\site-packages\\keras\\src\\losses.py:2976: The name tf.losses.sparse_softmax_cross_entropy is deprecated. Please use tf.compat.v1.losses.sparse_softmax_cross_entropy instead.\n",
      "\n",
      "Num GPUs Available:  0\n"
     ]
    }
   ],
   "source": [
    "import tensorflow as tf\n",
    "print(\"Num GPUs Available: \", len(tf.config.list_physical_devices('GPU')))"
   ]
  },
  {
   "cell_type": "code",
   "execution_count": null,
   "metadata": {},
   "outputs": [],
   "source": [
    "import matplotlib.pyplot as plt\n",
    "#data.plot.line(subplots=True, figsize=(20, 20))\n",
    "plt.plot(data[0:510])\n",
    "plt.xlabel('No. of points')\n",
    "plt.ylabel('Amplitude')\n",
    "plt.title('The first 510 points of Long Blink')\n",
    "plt.show()"
   ]
  }
 ],
 "metadata": {
  "kernelspec": {
   "display_name": ".venv",
   "language": "python",
   "name": "python3"
  },
  "language_info": {
   "codemirror_mode": {
    "name": "ipython",
    "version": 3
   },
   "file_extension": ".py",
   "mimetype": "text/x-python",
   "name": "python",
   "nbconvert_exporter": "python",
   "pygments_lexer": "ipython3",
   "version": "3.11.7"
  }
 },
 "nbformat": 4,
 "nbformat_minor": 2
}
